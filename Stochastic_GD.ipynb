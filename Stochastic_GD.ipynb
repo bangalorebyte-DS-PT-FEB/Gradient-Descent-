{
 "cells": [
  {
   "cell_type": "code",
   "execution_count": 5,
   "metadata": {},
   "outputs": [],
   "source": [
    "# batch gradient descent \n",
    "def linear_regression(X, y, m_current=0, b_current=0, epochs=1000, learning_rate=0.01):\n",
    "     N = float(len(y))\n",
    "     for i in range(epochs):\n",
    "          # making prediction\n",
    "          y_current = (m_current * X) + b_current\n",
    "          cost = sum([data**2 for data in (y-y_current)]) / N\n",
    "          # calculating error gradient\n",
    "          m_gradient = -(2/N) * sum(X * (y - y_current))\n",
    "          b_gradient = -(2/N) * sum(y - y_current)\n",
    "          # updating beta values using learning rate\n",
    "          m_current = m_current - (learning_rate * m_gradient)\n",
    "          b_current = b_current - (learning_rate * b_gradient)\n",
    "          print(m_current)\n",
    "     return m_current, b_current, cost\n",
    "\n"
   ]
  },
  {
   "cell_type": "code",
   "execution_count": 6,
   "metadata": {},
   "outputs": [
    {
     "name": "stdout",
     "output_type": "stream",
     "text": [
      "(6.760252233899529, 13.531610036361066, 45.62019572892936)\n"
     ]
    }
   ],
   "source": [
    "import numpy as np\n",
    "# data\n",
    "\n",
    "X = np.random.normal(loc = 7.5,scale = 0.74, size = 100)\n",
    "\n",
    "y = np.random.normal(loc = 65, scale = 3.8, size = 100)\n",
    "\n",
    "print(linear_regression(X,y))"
   ]
  },
  {
   "cell_type": "code",
   "execution_count": 10,
   "metadata": {},
   "outputs": [
    {
     "data": {
      "text/plain": [
       "60.82"
      ]
     },
     "execution_count": 10,
     "metadata": {},
     "output_type": "execute_result"
    }
   ],
   "source": [
    "# stochastic gradient descent \n",
    "\n",
    "# Going row by row and updating the beta value using each individual error\n",
    "\n",
    "for i in range(1,N):\n",
    "    m_current = m_current - learning_rate * m_gradient\n",
    "\n",
    "\n",
    "\n"
   ]
  },
  {
   "cell_type": "code",
   "execution_count": null,
   "metadata": {},
   "outputs": [],
   "source": []
  }
 ],
 "metadata": {
  "kernelspec": {
   "display_name": "Python 3",
   "language": "python",
   "name": "python3"
  },
  "language_info": {
   "codemirror_mode": {
    "name": "ipython",
    "version": 3
   },
   "file_extension": ".py",
   "mimetype": "text/x-python",
   "name": "python",
   "nbconvert_exporter": "python",
   "pygments_lexer": "ipython3",
   "version": "3.6.4"
  }
 },
 "nbformat": 4,
 "nbformat_minor": 2
}
